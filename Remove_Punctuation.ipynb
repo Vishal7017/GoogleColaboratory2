{
  "nbformat": 4,
  "nbformat_minor": 0,
  "metadata": {
    "colab": {
      "name": "Remove_Punctuation.ipynb",
      "provenance": [],
      "collapsed_sections": [],
      "authorship_tag": "ABX9TyPcVIyQTSWxyl/U3t7Z7bEZ",
      "include_colab_link": true
    },
    "kernelspec": {
      "name": "python3",
      "display_name": "Python 3"
    },
    "language_info": {
      "name": "python"
    }
  },
  "cells": [
    {
      "cell_type": "markdown",
      "metadata": {
        "id": "view-in-github",
        "colab_type": "text"
      },
      "source": [
        "<a href=\"https://colab.research.google.com/github/Vishal7017/GoogleColaboratory2/blob/master/Remove_Punctuation.ipynb\" target=\"_parent\"><img src=\"https://colab.research.google.com/assets/colab-badge.svg\" alt=\"Open In Colab\"/></a>"
      ]
    },
    {
      "cell_type": "code",
      "execution_count": 1,
      "metadata": {
        "id": "KT53Ovo_HHrt"
      },
      "outputs": [],
      "source": [
        "import string"
      ]
    },
    {
      "cell_type": "code",
      "source": [
        "import numpy as np"
      ],
      "metadata": {
        "id": "GTtmRDmjHpbd"
      },
      "execution_count": 2,
      "outputs": []
    },
    {
      "cell_type": "code",
      "source": [
        "text_data = ['Hi!!!! I. Love. This. Song.....','1000% Agree!!!! #LoveIT', 'Right?!?!']"
      ],
      "metadata": {
        "id": "55wpPqq8HrjM"
      },
      "execution_count": 4,
      "outputs": []
    },
    {
      "cell_type": "code",
      "source": [
        "#Create function using string.punctuation to remove all punctuations\n",
        "def remove_punctuation(sentence: str) -> str:\n",
        "  return sentence.translate(str.maketrans('', '', string.punctuation))"
      ],
      "metadata": {
        "id": "2QmtY1-ZHzTF"
      },
      "execution_count": 6,
      "outputs": []
    },
    {
      "cell_type": "code",
      "source": [
        "#Apply function\n",
        "[remove_punctuation(sentence) for sentence in text_data]"
      ],
      "metadata": {
        "colab": {
          "base_uri": "https://localhost:8080/"
        },
        "id": "iCTrw1NWILww",
        "outputId": "1b8d7369-4674-47f0-e44d-76127879b6e3"
      },
      "execution_count": 8,
      "outputs": [
        {
          "output_type": "execute_result",
          "data": {
            "text/plain": [
              "['Hi I Love This Song', '1000 Agree LoveIT', 'Right']"
            ]
          },
          "metadata": {},
          "execution_count": 8
        }
      ]
    },
    {
      "cell_type": "code",
      "source": [
        ""
      ],
      "metadata": {
        "id": "D9ieM53YIcVa"
      },
      "execution_count": null,
      "outputs": []
    }
  ]
}